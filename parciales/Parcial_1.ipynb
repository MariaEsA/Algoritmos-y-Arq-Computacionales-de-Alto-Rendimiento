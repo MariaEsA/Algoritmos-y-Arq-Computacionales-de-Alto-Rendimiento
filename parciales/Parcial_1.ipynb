{
  "nbformat": 4,
  "nbformat_minor": 0,
  "metadata": {
    "colab": {
      "provenance": []
    },
    "kernelspec": {
      "name": "python3",
      "display_name": "Python 3"
    },
    "language_info": {
      "name": "python"
    }
  },
  "cells": [
    {
      "cell_type": "markdown",
      "source": [
        "**Nombre:** María Fernanda Estupiñan Aguilar ♥\\\n",
        "**Código:** 2210727"
      ],
      "metadata": {
        "id": "4t0t-8-4O27l"
      }
    },
    {
      "cell_type": "markdown",
      "source": [
        "1. Hallar los dos últimos primos menores o iguales a un número entero dado. El número límite debe ser positivo y mayor que dos.\n"
      ],
      "metadata": {
        "id": "JtSHAFEFPtAU"
      }
    },
    {
      "cell_type": "code",
      "source": [
        "#Hallar los dos últimos primos menores o iguales a un número entero dado. El número límite debe ser positivo y mayor que dos\n",
        "import math\n",
        "\n",
        "n = int(input(\"Ingrese un número entero, por favor:\"))\n",
        "while n < 2: #Pongo la condición para el entero\n",
        "  n = int(input(\"POR FAVOR, ingrese un número entero mayor a 2, gracias unu\"))\n",
        "#Definimos la función para saber si es primo o no\n",
        "def es_primo(num):\n",
        "  if num <= 1:\n",
        "    return False\n",
        "  for i in range(2, int(math.sqrt(num)) + 1):\n",
        "    if num % i == 0:\n",
        "      return False\n",
        "  return True\n",
        "#Tomar los últimos dos primos\n",
        "primos = []\n",
        "for i in range(n, 1, -1):\n",
        "  if es_primo(i):\n",
        "    primos.append(i)\n",
        "  if len(primos) == 2:\n",
        "    break\n",
        "\n",
        "print(\"Los últimos dos primos menores o iguales a\", n, \"sooon:\", primos)"
      ],
      "metadata": {
        "colab": {
          "base_uri": "https://localhost:8080/"
        },
        "id": "aiBNf6r-ayY5",
        "outputId": "de5c8b5b-bce8-43e5-ff65-5abd9045bcf3"
      },
      "execution_count": 21,
      "outputs": [
        {
          "output_type": "stream",
          "name": "stdout",
          "text": [
            "Ingrese un número entero, por favor:20\n",
            "Los últimos dos primos menores o iguales a 20 sooon: [19, 17]\n"
          ]
        }
      ]
    },
    {
      "cell_type": "markdown",
      "source": [
        "2.  Hallar la suma de los números que tienen raiz cuadrada entera entre 0 y un valor n pedido al usuario (incluyéndolo).\n"
      ],
      "metadata": {
        "id": "KaexL9q4QNDT"
      }
    },
    {
      "cell_type": "code",
      "source": [
        "n = int(input(\"Ingrese un número entero, por favor:\"))\n",
        "while n<0: #Pongo la condición para el entero\n",
        "  n = int(input(\"POR FAVOR, ingrese un número entero mayor a 0!\"))\n",
        "if n==0:\n",
        "  print(\"La suma es 0\")\n",
        "elif n<=1:\n",
        "  print(\"La suma es 1\")\n",
        "#Para los números mayores a 1 se hace una lista de todos los números y después se calcula la raíz de cada uno\n",
        "\n",
        "for i in range(n+1):\n",
        "  print(i)\n",
        "list(range(n+1))\n",
        "print(list(range(n+1)))\n",
        "\n",
        "def raiz(*i):\n",
        "  if i**0.5 == int(i**0.5):\n",
        "    return True\n",
        "  else:\n",
        "    return False\n",
        "print(raiz)\n"
      ],
      "metadata": {
        "colab": {
          "base_uri": "https://localhost:8080/"
        },
        "id": "AN3r3g68QRW7",
        "outputId": "46cb0c0f-3868-47cf-878d-6164e5d71d8f"
      },
      "execution_count": 22,
      "outputs": [
        {
          "output_type": "stream",
          "name": "stdout",
          "text": [
            "Ingrese un número entero, por favor:5\n",
            "0\n",
            "1\n",
            "2\n",
            "3\n",
            "4\n",
            "5\n",
            "[0, 1, 2, 3, 4, 5]\n",
            "<function raiz at 0x7c405be2fba0>\n"
          ]
        }
      ]
    },
    {
      "cell_type": "markdown",
      "source": [
        "3. Crear una lista con 100 números entre 0 y 50 generados de manera aleatoria. Hallar la media de estos.\n",
        "Generar dos sublistas: una que contenga los números de la lista original menores que la media, y otra\n",
        "que contenga los mayores. Contar los elementos menores y mayores que la media."
      ],
      "metadata": {
        "id": "463lVgwbQRpq"
      }
    },
    {
      "cell_type": "code",
      "source": [],
      "metadata": {
        "id": "MmuVeYtVgzqR"
      },
      "execution_count": null,
      "outputs": []
    },
    {
      "cell_type": "code",
      "source": [
        "import random\n",
        "\n",
        "lista_random = [random.randint(0, 50) for _ in range(100)]\n",
        "print(\"Original list:\", lista_random)\n",
        "#Definios la función para la suma y luego calculamos la media de los valores de la lista random generada\n",
        "def suma(lista):\n",
        "  total = 0\n",
        "  for i in lista:\n",
        "    total += i\n",
        "  return total\n",
        "\n",
        "suma_total = suma(lista_random)\n",
        "media = suma_total / len(lista_random)\n",
        "print(\"La media de la lista random generada con número entre 0 y 50 es:\", media)\n",
        "\n",
        "less_than_media = []\n",
        "greater_than_media = []\n",
        "\n",
        "for x in lista_random:\n",
        "  if x < media:\n",
        "    less_than_media.append(x)\n",
        "\n",
        "for x in lista_random:\n",
        "  if x > media:\n",
        "    greater_than_media.append(x)\n",
        "\n",
        "print(\"Números menores a la media:\", less_than_media)\n",
        "print(\"Números mayores a la media:\", greater_than_media)\n",
        "\n",
        "print(\"Cuenta de todos los números menores a la media:\", len(less_than_media))\n",
        "print(\"Cuenta de todos los números menores a la media:\", len(greater_than_media))"
      ],
      "metadata": {
        "colab": {
          "base_uri": "https://localhost:8080/"
        },
        "id": "VPzcfjwXer_s",
        "outputId": "7b300839-8df5-4667-d25f-f8e68080a32c"
      },
      "execution_count": 36,
      "outputs": [
        {
          "output_type": "stream",
          "name": "stdout",
          "text": [
            "Original list: [50, 16, 47, 15, 21, 39, 25, 42, 29, 42, 41, 22, 36, 6, 16, 4, 11, 45, 47, 11, 7, 22, 25, 43, 47, 22, 5, 11, 26, 46, 38, 8, 44, 10, 37, 23, 6, 34, 36, 50, 8, 31, 22, 7, 6, 5, 26, 39, 16, 16, 25, 26, 37, 9, 7, 30, 20, 1, 40, 0, 19, 18, 27, 14, 45, 6, 42, 26, 35, 21, 32, 23, 38, 33, 38, 7, 42, 16, 15, 0, 18, 41, 33, 26, 6, 12, 45, 22, 47, 13, 12, 1, 13, 22, 12, 32, 2, 6, 37, 47]\n",
            "La media de la lista random generada con número entre 0 y 50 es: 24.2\n",
            "Números menores a la media: [16, 15, 21, 22, 6, 16, 4, 11, 11, 7, 22, 22, 5, 11, 8, 10, 23, 6, 8, 22, 7, 6, 5, 16, 16, 9, 7, 20, 1, 0, 19, 18, 14, 6, 21, 23, 7, 16, 15, 0, 18, 6, 12, 22, 13, 12, 1, 13, 22, 12, 2, 6]\n",
            "Números mayores a la media: [50, 47, 39, 25, 42, 29, 42, 41, 36, 45, 47, 25, 43, 47, 26, 46, 38, 44, 37, 34, 36, 50, 31, 26, 39, 25, 26, 37, 30, 40, 27, 45, 42, 26, 35, 32, 38, 33, 38, 42, 41, 33, 26, 45, 47, 32, 37, 47]\n",
            "Cuenta de todos los números menores a la media: 52\n",
            "Cuenta de todos los números menores a la media: 48\n"
          ]
        }
      ]
    },
    {
      "cell_type": "code",
      "source": [],
      "metadata": {
        "id": "cFPd6UTXgeXy"
      },
      "execution_count": null,
      "outputs": []
    }
  ]
}