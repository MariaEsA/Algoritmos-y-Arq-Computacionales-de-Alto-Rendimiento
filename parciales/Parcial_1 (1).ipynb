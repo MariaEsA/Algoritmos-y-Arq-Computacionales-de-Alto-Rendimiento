{
  "nbformat": 4,
  "nbformat_minor": 0,
  "metadata": {
    "colab": {
      "provenance": []
    },
    "kernelspec": {
      "name": "python3",
      "display_name": "Python 3"
    },
    "language_info": {
      "name": "python"
    }
  },
  "cells": [
    {
      "cell_type": "markdown",
      "source": [
        "**Nombre:** María Fernanda Estupiñan Aguilar ♥\\\n",
        "**Código:** 2210727"
      ],
      "metadata": {
        "id": "4t0t-8-4O27l"
      }
    },
    {
      "cell_type": "markdown",
      "source": [
        "1. Hallar los dos últimos primos menores o iguales a un número entero dado. El número límite debe ser positivo y mayor que dos.\n"
      ],
      "metadata": {
        "id": "JtSHAFEFPtAU"
      }
    },
    {
      "cell_type": "code",
      "source": [
        "#Hallar los dos últimos primos menores o iguales a un número entero dado. El número límite debe ser positivo y mayor que dos\n",
        "import math\n",
        "\n",
        "n = int(input(\"Ingrese un número entero, por favor:\"))\n",
        "while n < 2: #Pongo la condición para el entero\n",
        "  n = int(input(\"POR FAVOR, ingrese un número entero mayor a 2, gracias unu\"))\n",
        "#Definimos la función para saber si es primo o no\n",
        "def es_primo(num):\n",
        "  if num <= 1:\n",
        "    return False\n",
        "  for i in range(2, int(math.sqrt(num)) + 1):\n",
        "    if num % i == 0:\n",
        "      return False\n",
        "  return True\n",
        "#Tomar los últimos dos primos\n",
        "primos = []\n",
        "for i in range(n, 1, -1):\n",
        "  if es_primo(i):\n",
        "    primos.append(i)\n",
        "  if len(primos) == 2:\n",
        "    break\n",
        "\n",
        "print(\"Los últimos dos primos menores o iguales a\", n, \"sooon:\", primos)"
      ],
      "metadata": {
        "colab": {
          "base_uri": "https://localhost:8080/"
        },
        "id": "aiBNf6r-ayY5",
        "outputId": "de5c8b5b-bce8-43e5-ff65-5abd9045bcf3"
      },
      "execution_count": null,
      "outputs": [
        {
          "output_type": "stream",
          "name": "stdout",
          "text": [
            "Ingrese un número entero, por favor:20\n",
            "Los últimos dos primos menores o iguales a 20 sooon: [19, 17]\n"
          ]
        }
      ]
    },
    {
      "cell_type": "markdown",
      "source": [
        "2.  Hallar la suma de los números que tienen raiz cuadrada entera entre 0 y un valor n pedido al usuario (incluyéndolo).\n"
      ],
      "metadata": {
        "id": "KaexL9q4QNDT"
      }
    },
    {
      "cell_type": "code",
      "source": [
        "# Hallar la suma de los números que tienen raiz cuadrada entera entre 0 y un valor n pedido al usuario (incluyéndolo).\n",
        "\n",
        "n = int(input(\"Ingrese un número entero positivo, por favor:\"))\n",
        "while n < 0:\n",
        "  n = int(input(\"POR FAVOR, ingrese un número entero positivo!\"))\n",
        "\n",
        "def tiene_raiz_entera(num):\n",
        "  if n < 0:\n",
        "    return False\n",
        "  sqrt_num = num**0.5\n",
        "  return sqrt_num == int(sqrt_num)\n",
        "\n",
        "suma_raices_enteras = 0\n",
        "for i in range(n + 1):\n",
        "  if tiene_raiz_entera(i):\n",
        "    suma_raices_enteras += i\n",
        "\n",
        "print(\"La suma de los números con raíz cuadrada entera entre 0 y\", n, \"es:\", suma_raices_enteras)"
      ],
      "metadata": {
        "id": "AN3r3g68QRW7",
        "colab": {
          "base_uri": "https://localhost:8080/"
        },
        "outputId": "e62b2aef-3ec7-4842-c882-982f3fbdedc3"
      },
      "execution_count": 52,
      "outputs": [
        {
          "output_type": "stream",
          "name": "stdout",
          "text": [
            "Ingrese un número entero positivo, por favor:5\n",
            "La suma de los números con raíz cuadrada entera entre 0 y 5 es: 5\n"
          ]
        }
      ]
    },
    {
      "cell_type": "markdown",
      "source": [
        "3. Crear una lista con 100 números entre 0 y 50 generados de manera aleatoria. Hallar la media de estos.\n",
        "Generar dos sublistas: una que contenga los números de la lista original menores que la media, y otra\n",
        "que contenga los mayores. Contar los elementos menores y mayores que la media."
      ],
      "metadata": {
        "id": "463lVgwbQRpq"
      }
    },
    {
      "cell_type": "code",
      "source": [
        "import random\n",
        "\n",
        "lista_random = [random.randint(0, 50) for _ in range(100)]\n",
        "print(\"Lista Original:\", lista_random)\n",
        "#Definios la función para la suma y luego calculamos la media de los valores de la lista random generada\n",
        "def suma(lista):\n",
        "  total = 0\n",
        "  for i in lista:\n",
        "    total += i\n",
        "  return total\n",
        "\n",
        "suma_total = suma(lista_random)\n",
        "media = suma_total / len(lista_random)\n",
        "print(\"La media de la lista random generada con número entre 0 y 50 es:\", media)\n",
        "\n",
        "menor_media = []\n",
        "mayor_media = []\n",
        "\n",
        "for x in lista_random:\n",
        "  if x < media:\n",
        "    menor_media.append(x)\n",
        "\n",
        "for x in lista_random:\n",
        "  if x > media:\n",
        "    mayor_media.append(x)\n",
        "\n",
        "print(\"Números menores a la media:\", menor_media)\n",
        "print(\"Números mayores a la media:\", mayor_media)\n",
        "\n",
        "print(\"Cuenta de todos los números menores a la media:\", len(menor_media))\n",
        "print(\"Cuenta de todos los números menores a la media:\", len(mayor_media))\n"
      ],
      "metadata": {
        "id": "VPzcfjwXer_s",
        "colab": {
          "base_uri": "https://localhost:8080/"
        },
        "outputId": "3947f592-4fbc-4a5f-cef2-44d2fff6e635"
      },
      "execution_count": 44,
      "outputs": [
        {
          "output_type": "stream",
          "name": "stdout",
          "text": [
            "Lista Original: [44, 11, 13, 26, 39, 0, 4, 23, 46, 32, 1, 49, 4, 26, 41, 31, 26, 31, 34, 12, 20, 46, 8, 14, 20, 46, 39, 1, 21, 38, 3, 25, 12, 12, 46, 8, 27, 34, 11, 0, 13, 46, 43, 37, 9, 20, 36, 31, 42, 4, 28, 12, 37, 42, 6, 9, 21, 32, 14, 35, 32, 34, 15, 45, 17, 42, 30, 47, 27, 44, 27, 42, 11, 5, 3, 15, 30, 25, 32, 12, 43, 13, 12, 29, 47, 18, 16, 40, 45, 17, 7, 26, 36, 9, 11, 28, 12, 16, 2, 23]\n",
            "La media de la lista random generada con número entre 0 y 50 es: 24.26\n",
            "Números menores a la media: [11, 13, 0, 4, 23, 1, 4, 12, 20, 8, 14, 20, 1, 21, 3, 12, 12, 8, 11, 0, 13, 9, 20, 4, 12, 6, 9, 21, 14, 15, 17, 11, 5, 3, 15, 12, 13, 12, 18, 16, 17, 7, 9, 11, 12, 16, 2, 23]\n",
            "Números mayores a la media: [44, 26, 39, 46, 32, 49, 26, 41, 31, 26, 31, 34, 46, 46, 39, 38, 25, 46, 27, 34, 46, 43, 37, 36, 31, 42, 28, 37, 42, 32, 35, 32, 34, 45, 42, 30, 47, 27, 44, 27, 42, 30, 25, 32, 43, 29, 47, 40, 45, 26, 36, 28]\n",
            "Cuenta de todos los números menores a la media: 48\n",
            "Cuenta de todos los números menores a la media: 52\n"
          ]
        }
      ]
    },
    {
      "cell_type": "code",
      "source": [],
      "metadata": {
        "id": "cFPd6UTXgeXy"
      },
      "execution_count": null,
      "outputs": []
    }
  ]
}
