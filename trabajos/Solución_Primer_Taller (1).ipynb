{
  "nbformat": 4,
  "nbformat_minor": 0,
  "metadata": {
    "colab": {
      "provenance": []
    },
    "kernelspec": {
      "name": "python3",
      "display_name": "Python 3"
    },
    "language_info": {
      "name": "python"
    }
  },
  "cells": [
    {
      "cell_type": "markdown",
      "source": [
        "**Nombre:** Maria Fernanda Estupiñan ❤\\\n",
        "**Código Estudiantil:** 2210727\n"
      ],
      "metadata": {
        "id": "lA787VEepUlT"
      }
    },
    {
      "cell_type": "markdown",
      "source": [
        "**1.** Calculadora de funciones trigonométricas"
      ],
      "metadata": {
        "id": "ZO1Mer52p0xA"
      }
    },
    {
      "cell_type": "code",
      "source": [
        "def factorial(n):\n",
        "    resultado = 1\n",
        "    i = 1\n",
        "    while i <= n:\n",
        "        resultado = resultado * i\n",
        "        i = i + 1\n",
        "    return resultado\n",
        "\n",
        "#Función para convertir grados a radianes\n",
        "def grados_a_radianes(grados):\n",
        "    pi = 3.141592653589793\n",
        "    radianes = grados * pi / 180\n",
        "    return radianes\n",
        "\n",
        "#Función para calcular el seno usando la serie de Taylor\n",
        "def seno(x, n_terminos):\n",
        "    resultado = 0\n",
        "    n = 0\n",
        "    while n < n_terminos:\n",
        "        potencia = 1\n",
        "        i = 0\n",
        "        while i < 2*n + 1:\n",
        "            potencia = potencia * x\n",
        "            i = i + 1\n",
        "            signo = 1\n",
        "            j = 0\n",
        "        while j < n:\n",
        "            signo = signo * -1\n",
        "            j = j + 1\n",
        "        termino = (signo * potencia) / factorial(2*n + 1)\n",
        "        resultado = resultado + termino\n",
        "        n = n + 1\n",
        "    return resultado\n",
        "\n",
        "#Función para calcular el coseno usando la serie de Taylor\n",
        "def coseno(x, n_terminos):\n",
        "    resultado = 0\n",
        "    n = 0\n",
        "    while n < n_terminos:\n",
        "        potencia = 1\n",
        "        i = 0\n",
        "        while i < 2*n:\n",
        "            potencia = potencia * x\n",
        "            i = i + 1\n",
        "        signo = 1\n",
        "        j = 0\n",
        "        while j < n:\n",
        "            signo = signo * -1\n",
        "            j = j + 1\n",
        "        termino = (signo * potencia) / factorial(2*n)\n",
        "        resultado = resultado + termino\n",
        "        n = n + 1\n",
        "    return resultado\n",
        "\n",
        "opcion = \"0\"\n",
        "while opcion != \"4\":\n",
        "    print(\"Calculadora de funciones trigonométricas UwU\")\n",
        "    print(\"1. Seno\")\n",
        "    print(\"2. Coseno\")\n",
        "    print(\"3. Tangente\")\n",
        "\n",
        "    opcion = input(\"Seleccione una opción:\")\n",
        "\n",
        "    if opcion == \"1\" or opcion == \"2\":\n",
        "        x_grados = float(input(\"Ingrese el valor de x en grados:\"))\n",
        "        n_terminos = int(input(\"Ingrese el número de términos que quiere usar en la serie:\"))\n",
        "\n",
        "        x_radianes = grados_a_radianes(x_grados)\n",
        "\n",
        "        if opcion == \"1\":\n",
        "            resultado = seno(x_radianes, n_terminos)\n",
        "            print(\"El seno aproximado de\", x_grados, \"grados es:\", resultado)\n",
        "        if opcion == \"2\":\n",
        "            resultado = coseno(x_radianes, n_terminos)\n",
        "            print(\"El coseno aproximado de\", x_grados, \"grados es:\", resultado)\n",
        "\n",
        "    elif opcion == \"3\":\n",
        "        print(\"La tangente podría calcularse como seno/coseno, pero no está implementada.\")\n",
        "\n",
        "    else:\n",
        "        print(\"Opción no válida, i}ntente de nuevo\")"
      ],
      "metadata": {
        "id": "5SriUlUcrxIj",
        "colab": {
          "base_uri": "https://localhost:8080/",
          "height": 807
        },
        "outputId": "c6661cdc-3cb6-4650-e840-69c8dc2cc198"
      },
      "execution_count": 8,
      "outputs": [
        {
          "output_type": "stream",
          "name": "stdout",
          "text": [
            "Calculadora de funciones trigonométricas UwU\n",
            "1. Seno\n",
            "2. Coseno\n",
            "3. Tangente\n",
            "Seleccione una opción:3\n",
            "La tangente podría calcularse como seno/coseno, pero no está implementada.\n",
            "Calculadora de funciones trigonométricas UwU\n",
            "1. Seno\n",
            "2. Coseno\n",
            "3. Tangente\n",
            "Seleccione una opción:1\n",
            "Ingrese el valor de x en grados:30\n",
            "Ingrese el número de términos que quiere usar en la serie:20\n",
            "El seno aproximado de 30.0 grados es: 0.49999999999999994\n",
            "Calculadora de funciones trigonométricas UwU\n",
            "1. Seno\n",
            "2. Coseno\n",
            "3. Tangente\n",
            "Seleccione una opción:2\n",
            "Ingrese el valor de x en grados:45\n",
            "Ingrese el número de términos que quiere usar en la serie:50\n",
            "El coseno aproximado de 45.0 grados es: 0.7071067811865475\n",
            "Calculadora de funciones trigonométricas UwU\n",
            "1. Seno\n",
            "2. Coseno\n",
            "3. Tangente\n"
          ]
        },
        {
          "output_type": "error",
          "ename": "KeyboardInterrupt",
          "evalue": "Interrupted by user",
          "traceback": [
            "\u001b[0;31m---------------------------------------------------------------------------\u001b[0m",
            "\u001b[0;31mKeyboardInterrupt\u001b[0m                         Traceback (most recent call last)",
            "\u001b[0;32m/tmp/ipython-input-2005908200.py\u001b[0m in \u001b[0;36m<cell line: 0>\u001b[0;34m()\u001b[0m\n\u001b[1;32m     60\u001b[0m     \u001b[0mprint\u001b[0m\u001b[0;34m(\u001b[0m\u001b[0;34m\"3. Tangente\"\u001b[0m\u001b[0;34m)\u001b[0m\u001b[0;34m\u001b[0m\u001b[0;34m\u001b[0m\u001b[0m\n\u001b[1;32m     61\u001b[0m \u001b[0;34m\u001b[0m\u001b[0m\n\u001b[0;32m---> 62\u001b[0;31m     \u001b[0mopcion\u001b[0m \u001b[0;34m=\u001b[0m \u001b[0minput\u001b[0m\u001b[0;34m(\u001b[0m\u001b[0;34m\"Seleccione una opción:\"\u001b[0m\u001b[0;34m)\u001b[0m\u001b[0;34m\u001b[0m\u001b[0;34m\u001b[0m\u001b[0m\n\u001b[0m\u001b[1;32m     63\u001b[0m \u001b[0;34m\u001b[0m\u001b[0m\n\u001b[1;32m     64\u001b[0m     \u001b[0;32mif\u001b[0m \u001b[0mopcion\u001b[0m \u001b[0;34m==\u001b[0m \u001b[0;34m\"1\"\u001b[0m \u001b[0;32mor\u001b[0m \u001b[0mopcion\u001b[0m \u001b[0;34m==\u001b[0m \u001b[0;34m\"2\"\u001b[0m\u001b[0;34m:\u001b[0m\u001b[0;34m\u001b[0m\u001b[0;34m\u001b[0m\u001b[0m\n",
            "\u001b[0;32m/usr/local/lib/python3.12/dist-packages/ipykernel/kernelbase.py\u001b[0m in \u001b[0;36mraw_input\u001b[0;34m(self, prompt)\u001b[0m\n\u001b[1;32m   1175\u001b[0m                 \u001b[0;34m\"raw_input was called, but this frontend does not support input requests.\"\u001b[0m\u001b[0;34m\u001b[0m\u001b[0;34m\u001b[0m\u001b[0m\n\u001b[1;32m   1176\u001b[0m             )\n\u001b[0;32m-> 1177\u001b[0;31m         return self._input_request(\n\u001b[0m\u001b[1;32m   1178\u001b[0m             \u001b[0mstr\u001b[0m\u001b[0;34m(\u001b[0m\u001b[0mprompt\u001b[0m\u001b[0;34m)\u001b[0m\u001b[0;34m,\u001b[0m\u001b[0;34m\u001b[0m\u001b[0;34m\u001b[0m\u001b[0m\n\u001b[1;32m   1179\u001b[0m             \u001b[0mself\u001b[0m\u001b[0;34m.\u001b[0m\u001b[0m_parent_ident\u001b[0m\u001b[0;34m[\u001b[0m\u001b[0;34m\"shell\"\u001b[0m\u001b[0;34m]\u001b[0m\u001b[0;34m,\u001b[0m\u001b[0;34m\u001b[0m\u001b[0;34m\u001b[0m\u001b[0m\n",
            "\u001b[0;32m/usr/local/lib/python3.12/dist-packages/ipykernel/kernelbase.py\u001b[0m in \u001b[0;36m_input_request\u001b[0;34m(self, prompt, ident, parent, password)\u001b[0m\n\u001b[1;32m   1217\u001b[0m             \u001b[0;32mexcept\u001b[0m \u001b[0mKeyboardInterrupt\u001b[0m\u001b[0;34m:\u001b[0m\u001b[0;34m\u001b[0m\u001b[0;34m\u001b[0m\u001b[0m\n\u001b[1;32m   1218\u001b[0m                 \u001b[0;31m# re-raise KeyboardInterrupt, to truncate traceback\u001b[0m\u001b[0;34m\u001b[0m\u001b[0;34m\u001b[0m\u001b[0m\n\u001b[0;32m-> 1219\u001b[0;31m                 \u001b[0;32mraise\u001b[0m \u001b[0mKeyboardInterrupt\u001b[0m\u001b[0;34m(\u001b[0m\u001b[0;34m\"Interrupted by user\"\u001b[0m\u001b[0;34m)\u001b[0m \u001b[0;32mfrom\u001b[0m \u001b[0;32mNone\u001b[0m\u001b[0;34m\u001b[0m\u001b[0;34m\u001b[0m\u001b[0m\n\u001b[0m\u001b[1;32m   1220\u001b[0m             \u001b[0;32mexcept\u001b[0m \u001b[0mException\u001b[0m\u001b[0;34m:\u001b[0m\u001b[0;34m\u001b[0m\u001b[0;34m\u001b[0m\u001b[0m\n\u001b[1;32m   1221\u001b[0m                 \u001b[0mself\u001b[0m\u001b[0;34m.\u001b[0m\u001b[0mlog\u001b[0m\u001b[0;34m.\u001b[0m\u001b[0mwarning\u001b[0m\u001b[0;34m(\u001b[0m\u001b[0;34m\"Invalid Message:\"\u001b[0m\u001b[0;34m,\u001b[0m \u001b[0mexc_info\u001b[0m\u001b[0;34m=\u001b[0m\u001b[0;32mTrue\u001b[0m\u001b[0;34m)\u001b[0m\u001b[0;34m\u001b[0m\u001b[0;34m\u001b[0m\u001b[0m\n",
            "\u001b[0;31mKeyboardInterrupt\u001b[0m: Interrupted by user"
          ]
        }
      ]
    },
    {
      "cell_type": "markdown",
      "source": [
        "**2.** Identificador de raíces cuadradas"
      ],
      "metadata": {
        "id": "p3_i8wkdqHlI"
      }
    },
    {
      "cell_type": "code",
      "source": [
        "n = int(input(\"Ingrese un número entero positivo:\"))\n",
        "if n <= 0:\n",
        "    print(\"Debe ingresar un número positivo >:c, intente de nuevo\")\n",
        "else:\n",
        "    i = 1\n",
        "    es_cuadrado = False\n",
        "\n",
        "    #Ahora para la raíz debe probar todos los enteros desde 1 hasta n\n",
        "    while i <= n:\n",
        "        if i * i == n:        #Si el cuadrado de i es igual a n, salimos del bucle\n",
        "            es_cuadrado = True\n",
        "            break\n",
        "        i = i + 1\n",
        "    if es_cuadrado:\n",
        "        print(\"El número\", n, \"es un cuadrado perfecto y su raíz entera es\", i)\n",
        "    else:\n",
        "        print(\"El número\", n, \"NO es un cuadrado perfecto, F\")"
      ],
      "metadata": {
        "id": "2_QO6xCjrxpC",
        "colab": {
          "base_uri": "https://localhost:8080/"
        },
        "outputId": "deab4b68-9417-49d2-df0a-d308438d8131"
      },
      "execution_count": 9,
      "outputs": [
        {
          "output_type": "stream",
          "name": "stdout",
          "text": [
            "Ingrese un número entero positivo:678\n",
            "El número 678 NO es un cuadrado perfecto, F\n"
          ]
        }
      ]
    },
    {
      "cell_type": "markdown",
      "source": [
        "**3.**  Representación de un número n en base b (b<10)"
      ],
      "metadata": {
        "id": "EhgvavcTqSxH"
      }
    },
    {
      "cell_type": "code",
      "source": [
        "n = int(input(\"Ingrese un número entero positivo n:\"))\n",
        "b = int(input(\"Ingrese la base b (por favor, MENOR que 10):\"))\n",
        "\n",
        "if n <= 0:\n",
        "    print(\"n debe ser un número positivo >:c\")\n",
        "elif b <= 1 or b >= 10:\n",
        "    print(\"La base debe ser MAYOR que 1 y MENOR que 10, intente de nuevo\")\n",
        "else:\n",
        "    numero_original = n\n",
        "    representacion = \"\"\n",
        "\n",
        "    while n > 0:\n",
        "        residuo = n % b          #Obtiene el dígito menos significativo\n",
        "        n = n // b               #Actualiza n dividiéndolo por b\n",
        "\n",
        "        #Agregamos el dígito al inicio de la representación\n",
        "        representacion = str(residuo) + representacion\n",
        "\n",
        "    print(\"El número\", numero_original, \"en base\", b, \"es:\", representacion)"
      ],
      "metadata": {
        "id": "VALucmbOryJB",
        "colab": {
          "base_uri": "https://localhost:8080/"
        },
        "outputId": "3269d133-90d4-4766-e3bb-4f47af9936fb"
      },
      "execution_count": 11,
      "outputs": [
        {
          "output_type": "stream",
          "name": "stdout",
          "text": [
            "Ingrese un número entero positivo n:2004\n",
            "Ingrese la base b (por favor, MENOR que 10):3\n",
            "El número 2004 en base 3 es: 2202020\n"
          ]
        }
      ]
    },
    {
      "cell_type": "markdown",
      "source": [
        "**4.** Invertir una frase palabra por palabra y letra por letra"
      ],
      "metadata": {
        "id": "O6HjTCQxqhIa"
      }
    },
    {
      "cell_type": "code",
      "source": [
        "frase = input(\"Ingrese una frase:\")\n",
        "\n",
        "#Separaramos cada palabra\n",
        "palabras = frase.split()\n",
        "#Invertimos palabra a palabra\n",
        "frase_palabras_invertidas = \"\"\n",
        "i = len(palabras) - 1\n",
        "while i >= 0:\n",
        "    frase_palabras_invertidas = frase_palabras_invertidas + palabras[i]\n",
        "    if i > 0:\n",
        "        frase_palabras_invertidas = frase_palabras_invertidas + \" \"\n",
        "    i = i - 1\n",
        "\n",
        "print(\"Frase invertida palabra a palabra:\")\n",
        "print(frase_palabras_invertidas)\n",
        "\n",
        "#Ahora invertimos pero letra a letra, entonces hay que recorrer cada palabra e invertila\n",
        "frase_letras_invertidas = \"\"\n",
        "i = 0\n",
        "while i < len(palabras):\n",
        "    palabra = palabras[i].lower()  #Convertimos a minúsculas antes de invertir, así si hay mayúsculas también cambien\n",
        "    j = len(palabra) - 1\n",
        "    while j >= 0:\n",
        "        frase_letras_invertidas = frase_letras_invertidas + palabra[j]\n",
        "        j = j - 1\n",
        "    if i < len(palabras) - 1:\n",
        "        frase_letras_invertidas = frase_letras_invertidas + \" \"\n",
        "    i = i + 1\n",
        "\n",
        "print(\"Frase invertida letra a letra :D :\")\n",
        "print(frase_letras_invertidas)"
      ],
      "metadata": {
        "id": "jiYpFMPLryi4",
        "colab": {
          "base_uri": "https://localhost:8080/"
        },
        "outputId": "c9a06703-5801-4817-952e-108bf55f3274"
      },
      "execution_count": 12,
      "outputs": [
        {
          "output_type": "stream",
          "name": "stdout",
          "text": [
            "Ingrese una frase:Todos los caminos llevan a Roma\n",
            "Frase invertida palabra a palabra:\n",
            "Roma a llevan caminos los Todos\n",
            "Frase invertida letra a letra :D :\n",
            "sodot sol sonimac navell a amor\n"
          ]
        }
      ]
    },
    {
      "cell_type": "markdown",
      "source": [
        "**5.** Número con ceros intercalados"
      ],
      "metadata": {
        "id": "cQ2eT7VvqsnG"
      }
    },
    {
      "cell_type": "code",
      "source": [
        "entrada = input(\"Ingrese un entero (positivo o negativo): \")\n",
        "\n",
        "try:\n",
        "    numero_entero = int(entrada)\n",
        "    negativo = numero_entero < 0\n",
        "    numero_final = str(abs(numero_entero))\n",
        "    result = \"\"\n",
        "    for i in range(len(numero_final)):\n",
        "        result = result + numero_final[i]\n",
        "        if i < len(numero_final) - 1:\n",
        "            result = result + \"0\"\n",
        "\n",
        "    if negativo:\n",
        "        result = \"-\" + result\n",
        "\n",
        "    print(\"El número con ceros intercalados es:\", result)\n",
        "except ValueError:\n",
        "    print(\"Entrada inválida. Por favor ingrese un entero.\")"
      ],
      "metadata": {
        "id": "31rBZ5spry5r",
        "colab": {
          "base_uri": "https://localhost:8080/"
        },
        "outputId": "af6768de-3917-4d8c-e74a-0b5d04076abb"
      },
      "execution_count": 14,
      "outputs": [
        {
          "output_type": "stream",
          "name": "stdout",
          "text": [
            "Ingrese un entero (positivo o negativo): 2657\n",
            "El número con ceros intercalados es: 2060507\n"
          ]
        }
      ]
    },
    {
      "cell_type": "markdown",
      "source": [
        "**6.**  Media de los números pares dentro de un número entero"
      ],
      "metadata": {
        "id": "U2sURRZJrN5k"
      }
    },
    {
      "cell_type": "code",
      "source": [
        "print(\"Calculadora de la media de los números pares ˖⁺‧₊⟡₊˚⊹\")\n",
        "print(\"1. Usando listas\")\n",
        "print(\"2. Sin usar listas\")\n",
        "opcion = input(\"Seleccione una opción: \")\n",
        "\n",
        "if opcion == \"1\":\n",
        "    #CON LISTAS\n",
        "    entrada = input(\"Ingrese números enteros separados por coma: \")\n",
        "    numeros = entrada.split(\",\")\n",
        "    i = 0\n",
        "    while i < len(numeros):\n",
        "        numeros[i] = int(numeros[i])\n",
        "        i = i + 1\n",
        "    suma_pares = 0\n",
        "    contador_pares = 0\n",
        "    i = 0\n",
        "    while i < len(numeros):\n",
        "        if numeros[i] % 2 == 0:\n",
        "            suma_pares = suma_pares + numeros[i]\n",
        "            contador_pares = contador_pares + 1\n",
        "        i = i + 1\n",
        "    if contador_pares > 0:\n",
        "        media_pares = suma_pares / contador_pares\n",
        "        print(\"La media de los números pares es:\", media_pares)\n",
        "    else:\n",
        "        print(\"No se ingresaron números pares.\")\n",
        "\n",
        "elif opcion == \"2\":\n",
        "    #sIN LISTAS\n",
        "    cantidad = int(input(\"¿Cuántos números va a ingresar?: \"))\n",
        "\n",
        "    suma_pares = 0\n",
        "    contador_pares = 0\n",
        "\n",
        "    i = 0\n",
        "    while i < cantidad:\n",
        "        numero = int(input(\"Ingrese un número entero: \"))\n",
        "        if numero % 2 == 0:\n",
        "            suma_pares = suma_pares + numero\n",
        "            contador_pares = contador_pares + 1\n",
        "        i = i + 1\n",
        "\n",
        "    if contador_pares > 0:\n",
        "        media_pares = suma_pares / contador_pares\n",
        "        print(\"La media de los números pares es:\", media_pares)\n",
        "    else:\n",
        "        print(\"No se ingresaron números pares.\")\n",
        "\n",
        "else:\n",
        "    print(\"Opción no válida. Ejecute el programa de nuevo.\")"
      ],
      "metadata": {
        "id": "CA1P_4QPrzbl",
        "colab": {
          "base_uri": "https://localhost:8080/"
        },
        "outputId": "4df56ca6-ec04-4692-d0d1-045a7bfec063"
      },
      "execution_count": 22,
      "outputs": [
        {
          "output_type": "stream",
          "name": "stdout",
          "text": [
            "Calculadora de la media de los números pares ˖⁺‧₊⟡₊˚⊹\n",
            "1. Usando listas\n",
            "2. Sin usar listas\n",
            "Seleccione una opción: 1\n",
            "Ingrese números enteros separados por coma: 2,2,4,5\n",
            "La media de los números pares es: 2.6666666666666665\n"
          ]
        }
      ]
    },
    {
      "cell_type": "markdown",
      "source": [
        "**7.**  ¿Es posible construir programas similares para la desviación estándar?"
      ],
      "metadata": {
        "id": "VwTPiWwRrcSY"
      }
    },
    {
      "cell_type": "code",
      "execution_count": 23,
      "metadata": {
        "id": "wwvrDZ66pA22",
        "colab": {
          "base_uri": "https://localhost:8080/"
        },
        "outputId": "c32203e9-5eb6-4a0f-b1eb-0215c1c74543"
      },
      "outputs": [
        {
          "output_type": "stream",
          "name": "stdout",
          "text": [
            "Ingrese la cantidad de valores: 4\n",
            "Ingrese los valores separados por coma: 2,3,6,7\n",
            "La media de los valores es: 4.5\n",
            "La desviación estándar es: 2.0615528128088303\n"
          ]
        }
      ],
      "source": [
        "#Si pude construir uno que calcule la media, entonces sí, efectivamente se puede hacer un programa para la desviación estándar\n",
        "numero_valores = input(\"Ingrese la cantidad de valores: \")\n",
        "\n",
        "try:\n",
        "    n = int(numero_valores)\n",
        "\n",
        "    if n <= 0:\n",
        "        print(\"Debe ingresar un número positivo de valores.\")\n",
        "    else:\n",
        "        lista_entrada = input(\"Ingrese los valores separados por coma: \")\n",
        "        numeros = lista_entrada.split(\",\")\n",
        "        if len(numeros) != n:\n",
        "            print(\"La cantidad de números no coincide con la cantidad indicada.\")\n",
        "        else:\n",
        "            suma = 0\n",
        "            i = 0\n",
        "            while i < n:\n",
        "                numeros[i] = int(numeros[i])\n",
        "                suma = suma + numeros[i]\n",
        "                i = i + 1\n",
        "\n",
        "            #Calculamos la media la media\n",
        "            media = suma / n\n",
        "\n",
        "            #Calculamos la suma de las diferencias al cuadrado\n",
        "            suma_cuadrados = 0\n",
        "            i = 0\n",
        "            while i < n:\n",
        "                diferencia = numeros[i] - media\n",
        "                cuadrado = diferencia * diferencia\n",
        "                suma_cuadrados = suma_cuadrados + cuadrado\n",
        "                i = i + 1\n",
        "\n",
        "            #Podemos obtener la varianza y luego la desviación\n",
        "            varianza = suma_cuadrados / n\n",
        "            desviacion_estandar = varianza ** 0.5\n",
        "\n",
        "            print(\"La media de los valores es:\", media)\n",
        "            print(\"La desviación estándar es:\", desviacion_estandar)\n",
        "\n",
        "except ValueError:\n",
        "    print(\"Entrada inválida, por favor vuelva a ingresar números enteros >:c\")"
      ]
    },
    {
      "cell_type": "markdown",
      "source": [
        "**8.** Calculo de la moda de una lista de elementos enteros"
      ],
      "metadata": {
        "id": "5hr8q57CrgGk"
      }
    },
    {
      "cell_type": "code",
      "source": [
        "lista_de_elementos = input(\"Ingrese una lista de números enteros separados por comas:\")\n",
        "\n",
        "try:\n",
        "    lista = [int(x) for x in lista_de_elementos.split(\",\")]\n",
        "    frecuencia = {}\n",
        "    for elemento in lista:\n",
        "        if elemento in frecuencia:\n",
        "           frecuencia[elemento] = frecuencia[elemento] + 1\n",
        "        else:\n",
        "            frecuencia[elemento] = 1\n",
        "    moda = max(frecuencia, key=frecuencia.get)\n",
        "    print(\"La moda de la lista ingresada es:\")\n",
        "    print(moda)\n",
        "except ValueError:\n",
        "    print(\"Entrada inválida, por favor vuelva a ingresar una lista de números enteros separados por comas\")\n"
      ],
      "metadata": {
        "colab": {
          "base_uri": "https://localhost:8080/"
        },
        "id": "ogGnZTXBaNY-",
        "outputId": "4846a8ef-a58d-4d11-8680-9a3a8db8db3c"
      },
      "execution_count": null,
      "outputs": [
        {
          "output_type": "stream",
          "name": "stdout",
          "text": [
            "Ingrese una lista de números enteros separados por comas:1,2,3,3\n",
            "La moda de la lista ingresada es:\n",
            "3\n"
          ]
        }
      ]
    }
  ]
}